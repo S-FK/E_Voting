{
 "cells": [
  {
   "cell_type": "code",
   "execution_count": 1,
   "metadata": {},
   "outputs": [
    {
     "data": {
      "text/plain": [
       "'2.0.0-alpha0'"
      ]
     },
     "execution_count": 1,
     "metadata": {},
     "output_type": "execute_result"
    }
   ],
   "source": [
    "import tensorflow\n",
    "tensorflow.__version__"
   ]
  },
  {
   "cell_type": "code",
   "execution_count": 2,
   "metadata": {
    "scrolled": true
   },
   "outputs": [],
   "source": [
    "import sys, os\n",
    "import pandas as pd\n",
    "import numpy as np\n",
    "import cv2\n",
    "from sklearn.model_selection import train_test_split\n",
    "from tensorflow.keras.models import Sequential\n",
    "from tensorflow.keras.layers import Dense, Dropout, Activation, Flatten\n",
    "from tensorflow.keras.layers import Conv2D, MaxPooling2D, BatchNormalization\n",
    "from tensorflow.keras.losses import categorical_crossentropy\n",
    "from tensorflow.keras.optimizers import Adam\n",
    "from tensorflow.keras.regularizers import l2\n",
    "from tensorflow.keras.callbacks import ReduceLROnPlateau, TensorBoard, EarlyStopping, ModelCheckpoint\n",
    "from tensorflow.keras.models import load_model"
   ]
  },
  {
   "cell_type": "code",
   "execution_count": 4,
   "metadata": {},
   "outputs": [],
   "source": [
    "num_features = 64\n",
    "num_labels = 7\n",
    "batch_size = 64\n",
    "epochs = 100\n",
    "width, height = 48, 48"
   ]
  },
  {
   "cell_type": "code",
   "execution_count": 9,
   "metadata": {},
   "outputs": [
    {
     "data": {
      "text/html": [
       "<div>\n",
       "<style scoped>\n",
       "    .dataframe tbody tr th:only-of-type {\n",
       "        vertical-align: middle;\n",
       "    }\n",
       "\n",
       "    .dataframe tbody tr th {\n",
       "        vertical-align: top;\n",
       "    }\n",
       "\n",
       "    .dataframe thead th {\n",
       "        text-align: right;\n",
       "    }\n",
       "</style>\n",
       "<table border=\"1\" class=\"dataframe\">\n",
       "  <thead>\n",
       "    <tr style=\"text-align: right;\">\n",
       "      <th></th>\n",
       "      <th>emotion</th>\n",
       "      <th>pixels</th>\n",
       "      <th>Usage</th>\n",
       "    </tr>\n",
       "  </thead>\n",
       "  <tbody>\n",
       "    <tr>\n",
       "      <th>0</th>\n",
       "      <td>0</td>\n",
       "      <td>70 80 82 72 58 58 60 63 54 58 60 48 89 115 121...</td>\n",
       "      <td>Training</td>\n",
       "    </tr>\n",
       "    <tr>\n",
       "      <th>1</th>\n",
       "      <td>0</td>\n",
       "      <td>151 150 147 155 148 133 111 140 170 174 182 15...</td>\n",
       "      <td>Training</td>\n",
       "    </tr>\n",
       "    <tr>\n",
       "      <th>2</th>\n",
       "      <td>2</td>\n",
       "      <td>231 212 156 164 174 138 161 173 182 200 106 38...</td>\n",
       "      <td>Training</td>\n",
       "    </tr>\n",
       "    <tr>\n",
       "      <th>3</th>\n",
       "      <td>4</td>\n",
       "      <td>24 32 36 30 32 23 19 20 30 41 21 22 32 34 21 1...</td>\n",
       "      <td>Training</td>\n",
       "    </tr>\n",
       "    <tr>\n",
       "      <th>4</th>\n",
       "      <td>6</td>\n",
       "      <td>4 0 0 0 0 0 0 0 0 0 0 0 3 15 23 28 48 50 58 84...</td>\n",
       "      <td>Training</td>\n",
       "    </tr>\n",
       "  </tbody>\n",
       "</table>\n",
       "</div>"
      ],
      "text/plain": [
       "   emotion                                             pixels     Usage\n",
       "0        0  70 80 82 72 58 58 60 63 54 58 60 48 89 115 121...  Training\n",
       "1        0  151 150 147 155 148 133 111 140 170 174 182 15...  Training\n",
       "2        2  231 212 156 164 174 138 161 173 182 200 106 38...  Training\n",
       "3        4  24 32 36 30 32 23 19 20 30 41 21 22 32 34 21 1...  Training\n",
       "4        6  4 0 0 0 0 0 0 0 0 0 0 0 3 15 23 28 48 50 58 84...  Training"
      ]
     },
     "execution_count": 9,
     "metadata": {},
     "output_type": "execute_result"
    }
   ],
   "source": [
    "df = pd.read_csv('fer2013.csv')\n",
    "df.head()"
   ]
  },
  {
   "cell_type": "code",
   "execution_count": 10,
   "metadata": {},
   "outputs": [
    {
     "name": "stderr",
     "output_type": "stream",
     "text": [
      "/usr/local/lib/python3.6/dist-packages/ipykernel_launcher.py:16: FutureWarning: Method .as_matrix will be removed in a future version. Use .values instead.\n",
      "  app.launch_new_instance()\n"
     ]
    }
   ],
   "source": [
    "pixels = df['pixels'].tolist() \n",
    "\n",
    "faces = []\n",
    "for pixel_sequence in pixels:\n",
    "    face = [int(pixel) for pixel in pixel_sequence.split(' ')] \n",
    "    face = np.asarray(face).reshape(width, height) \n",
    "    faces.append(face.astype('float32'))\n",
    "\n",
    "faces = np.asarray(faces)\n",
    "faces = np.expand_dims(faces, -1) \n",
    "\n",
    "emotions = pd.get_dummies(df['emotion']).as_matrix() "
   ]
  },
  {
   "cell_type": "code",
   "execution_count": 11,
   "metadata": {},
   "outputs": [],
   "source": [
    "X_train, X_test, y_train, y_test = train_test_split(faces, emotions, test_size=0.1, random_state=42)\n",
    "X_train, X_val, y_train, y_val = train_test_split(X_train, y_train, test_size=0.1, random_state=41)"
   ]
  },
  {
   "cell_type": "code",
   "execution_count": 12,
   "metadata": {},
   "outputs": [],
   "source": [
    "from datetime import datetime\n",
    "!rm -rf ./logs/ \n",
    "logdir=\"./logs/train/\"+datetime.now().strftime(\"%Y%m%d-%H%M%S\")\n",
    "tensorboard_callback=tensorflow.keras.callbacks.TensorBoard(log_dir=logdir)\n",
    "\n",
    "model = Sequential()\n",
    "\n",
    "model.add(Conv2D(num_features, kernel_size=(3, 3), activation='relu', input_shape=(width, height, 1), data_format='channels_last', kernel_regularizer=l2(0.01)))\n",
    "model.add(Conv2D(num_features, kernel_size=(3, 3), activation='relu', padding='same'))\n",
    "model.add(BatchNormalization())\n",
    "model.add(MaxPooling2D(pool_size=(2, 2), strides=(2, 2)))\n",
    "model.add(Dropout(0.5))\n",
    "\n",
    "model.add(Conv2D(2*num_features, kernel_size=(3, 3), activation='relu', padding='same'))\n",
    "model.add(BatchNormalization())\n",
    "model.add(Conv2D(2*num_features, kernel_size=(3, 3), activation='relu', padding='same'))\n",
    "model.add(BatchNormalization())\n",
    "model.add(MaxPooling2D(pool_size=(2, 2), strides=(2, 2)))\n",
    "model.add(Dropout(0.5))\n",
    "\n",
    "model.add(Conv2D(2*2*num_features, kernel_size=(3, 3), activation='relu', padding='same'))\n",
    "model.add(BatchNormalization())\n",
    "model.add(Conv2D(2*2*num_features, kernel_size=(3, 3), activation='relu', padding='same'))\n",
    "model.add(BatchNormalization())\n",
    "model.add(MaxPooling2D(pool_size=(2, 2), strides=(2, 2)))\n",
    "model.add(Dropout(0.5))\n",
    "\n",
    "model.add(Conv2D(2*2*2*num_features, kernel_size=(3, 3), activation='relu', padding='same'))\n",
    "model.add(BatchNormalization())\n",
    "model.add(Conv2D(2*2*2*num_features, kernel_size=(3, 3), activation='relu', padding='same'))\n",
    "model.add(BatchNormalization())\n",
    "model.add(MaxPooling2D(pool_size=(2, 2), strides=(2, 2)))\n",
    "model.add(Dropout(0.5))\n",
    "\n",
    "model.add(Flatten())\n",
    "\n",
    "model.add(Dense(2*2*2*num_features, activation='relu'))\n",
    "model.add(Dropout(0.4))\n",
    "model.add(Dense(2*2*num_features, activation='relu'))\n",
    "model.add(Dropout(0.4))\n",
    "model.add(Dense(2*num_features, activation='relu'))\n",
    "model.add(Dropout(0.5))\n",
    "\n",
    "model.add(Dense(num_labels, activation='softmax'))"
   ]
  },
  {
   "cell_type": "code",
   "execution_count": 13,
   "metadata": {},
   "outputs": [
    {
     "name": "stdout",
     "output_type": "stream",
     "text": [
      "Model: \"sequential_1\"\n",
      "_________________________________________________________________\n",
      "Layer (type)                 Output Shape              Param #   \n",
      "=================================================================\n",
      "conv2d_8 (Conv2D)            (None, 46, 46, 64)        640       \n",
      "_________________________________________________________________\n",
      "conv2d_9 (Conv2D)            (None, 46, 46, 64)        36928     \n",
      "_________________________________________________________________\n",
      "batch_normalization_v2_7 (Ba (None, 46, 46, 64)        256       \n",
      "_________________________________________________________________\n",
      "max_pooling2d_4 (MaxPooling2 (None, 23, 23, 64)        0         \n",
      "_________________________________________________________________\n",
      "dropout_7 (Dropout)          (None, 23, 23, 64)        0         \n",
      "_________________________________________________________________\n",
      "conv2d_10 (Conv2D)           (None, 23, 23, 128)       73856     \n",
      "_________________________________________________________________\n",
      "batch_normalization_v2_8 (Ba (None, 23, 23, 128)       512       \n",
      "_________________________________________________________________\n",
      "conv2d_11 (Conv2D)           (None, 23, 23, 128)       147584    \n",
      "_________________________________________________________________\n",
      "batch_normalization_v2_9 (Ba (None, 23, 23, 128)       512       \n",
      "_________________________________________________________________\n",
      "max_pooling2d_5 (MaxPooling2 (None, 11, 11, 128)       0         \n",
      "_________________________________________________________________\n",
      "dropout_8 (Dropout)          (None, 11, 11, 128)       0         \n",
      "_________________________________________________________________\n",
      "conv2d_12 (Conv2D)           (None, 11, 11, 256)       295168    \n",
      "_________________________________________________________________\n",
      "batch_normalization_v2_10 (B (None, 11, 11, 256)       1024      \n",
      "_________________________________________________________________\n",
      "conv2d_13 (Conv2D)           (None, 11, 11, 256)       590080    \n",
      "_________________________________________________________________\n",
      "batch_normalization_v2_11 (B (None, 11, 11, 256)       1024      \n",
      "_________________________________________________________________\n",
      "max_pooling2d_6 (MaxPooling2 (None, 5, 5, 256)         0         \n",
      "_________________________________________________________________\n",
      "dropout_9 (Dropout)          (None, 5, 5, 256)         0         \n",
      "_________________________________________________________________\n",
      "conv2d_14 (Conv2D)           (None, 5, 5, 512)         1180160   \n",
      "_________________________________________________________________\n",
      "batch_normalization_v2_12 (B (None, 5, 5, 512)         2048      \n",
      "_________________________________________________________________\n",
      "conv2d_15 (Conv2D)           (None, 5, 5, 512)         2359808   \n",
      "_________________________________________________________________\n",
      "batch_normalization_v2_13 (B (None, 5, 5, 512)         2048      \n",
      "_________________________________________________________________\n",
      "max_pooling2d_7 (MaxPooling2 (None, 2, 2, 512)         0         \n",
      "_________________________________________________________________\n",
      "dropout_10 (Dropout)         (None, 2, 2, 512)         0         \n",
      "_________________________________________________________________\n",
      "flatten_1 (Flatten)          (None, 2048)              0         \n",
      "_________________________________________________________________\n",
      "dense_4 (Dense)              (None, 512)               1049088   \n",
      "_________________________________________________________________\n",
      "dropout_11 (Dropout)         (None, 512)               0         \n",
      "_________________________________________________________________\n",
      "dense_5 (Dense)              (None, 256)               131328    \n",
      "_________________________________________________________________\n",
      "dropout_12 (Dropout)         (None, 256)               0         \n",
      "_________________________________________________________________\n",
      "dense_6 (Dense)              (None, 128)               32896     \n",
      "_________________________________________________________________\n",
      "dropout_13 (Dropout)         (None, 128)               0         \n",
      "_________________________________________________________________\n",
      "dense_7 (Dense)              (None, 7)                 903       \n",
      "=================================================================\n",
      "Total params: 5,905,863\n",
      "Trainable params: 5,902,151\n",
      "Non-trainable params: 3,712\n",
      "_________________________________________________________________\n"
     ]
    }
   ],
   "source": [
    "model.summary()"
   ]
  },
  {
   "cell_type": "code",
   "execution_count": 14,
   "metadata": {},
   "outputs": [],
   "source": [
    "model.compile(loss=categorical_crossentropy,\n",
    "              optimizer=Adam(lr=0.001, beta_1=0.9, beta_2=0.999, epsilon=1e-7),\n",
    "              metrics=['accuracy'])"
   ]
  },
  {
   "cell_type": "code",
   "execution_count": 15,
   "metadata": {},
   "outputs": [],
   "source": [
    "lr_reducer = ReduceLROnPlateau(monitor='val_loss', factor=0.9, patience=3, verbose=1)"
   ]
  },
  {
   "cell_type": "code",
   "execution_count": 16,
   "metadata": {},
   "outputs": [],
   "source": [
    "early_stopper = EarlyStopping(monitor='val_loss', min_delta=0, patience=8, verbose=1, mode='auto')"
   ]
  },
  {
   "cell_type": "code",
   "execution_count": 17,
   "metadata": {},
   "outputs": [],
   "source": [
    "checkpointer = ModelCheckpoint(df, monitor='val_loss', verbose=1, save_best_only=True)"
   ]
  },
  {
   "cell_type": "code",
   "execution_count": 18,
   "metadata": {},
   "outputs": [
    {
     "name": "stdout",
     "output_type": "stream",
     "text": [
      "Train on 29068 samples, validate on 3589 samples\n",
      "Epoch 1/50\n",
      "29068/29068 [==============================] - 596s 21ms/sample - loss: 2.0585 - accuracy: 0.2091 - val_loss: 1.8271 - val_accuracy: 0.2455\n",
      "Epoch 2/50\n",
      "29068/29068 [==============================] - 591s 20ms/sample - loss: 1.8310 - accuracy: 0.2489 - val_loss: 1.7624 - val_accuracy: 0.2731\n",
      "Epoch 3/50\n",
      "29068/29068 [==============================] - 591s 20ms/sample - loss: 1.7670 - accuracy: 0.2830 - val_loss: 1.7212 - val_accuracy: 0.2917\n",
      "Epoch 4/50\n",
      "29068/29068 [==============================] - 596s 21ms/sample - loss: 1.6885 - accuracy: 0.3142 - val_loss: 1.5990 - val_accuracy: 0.3516\n",
      "Epoch 5/50\n",
      "29068/29068 [==============================] - 594s 20ms/sample - loss: 1.5855 - accuracy: 0.3804 - val_loss: 1.4766 - val_accuracy: 0.4252\n",
      "Epoch 6/50\n",
      "29068/29068 [==============================] - 596s 21ms/sample - loss: 1.4952 - accuracy: 0.4161 - val_loss: 1.4165 - val_accuracy: 0.4436\n",
      "Epoch 7/50\n",
      "29068/29068 [==============================] - 592s 20ms/sample - loss: 1.4532 - accuracy: 0.4379 - val_loss: 1.4341 - val_accuracy: 0.4536\n",
      "Epoch 8/50\n",
      "29068/29068 [==============================] - 599s 21ms/sample - loss: 1.4012 - accuracy: 0.4612 - val_loss: 1.2983 - val_accuracy: 0.5082\n",
      "Epoch 9/50\n",
      "29068/29068 [==============================] - 605s 21ms/sample - loss: 1.3616 - accuracy: 0.4819 - val_loss: 1.3120 - val_accuracy: 0.5099\n",
      "Epoch 10/50\n",
      "29068/29068 [==============================] - 598s 21ms/sample - loss: 1.3208 - accuracy: 0.5034 - val_loss: 1.4072 - val_accuracy: 0.4427\n",
      "Epoch 11/50\n",
      "29068/29068 [==============================] - 600s 21ms/sample - loss: 1.2976 - accuracy: 0.5137 - val_loss: 1.2201 - val_accuracy: 0.5341\n",
      "Epoch 12/50\n",
      "29068/29068 [==============================] - 599s 21ms/sample - loss: 1.2780 - accuracy: 0.5261 - val_loss: 1.2077 - val_accuracy: 0.5500\n",
      "Epoch 13/50\n",
      "29068/29068 [==============================] - 599s 21ms/sample - loss: 1.2419 - accuracy: 0.5402 - val_loss: 1.2367 - val_accuracy: 0.5378\n",
      "Epoch 14/50\n",
      "29068/29068 [==============================] - 603s 21ms/sample - loss: 1.2154 - accuracy: 0.5514 - val_loss: 1.1778 - val_accuracy: 0.5620\n",
      "Epoch 15/50\n",
      "29068/29068 [==============================] - 604s 21ms/sample - loss: 1.1938 - accuracy: 0.5613 - val_loss: 1.1744 - val_accuracy: 0.5575\n",
      "Epoch 16/50\n",
      "29068/29068 [==============================] - 603s 21ms/sample - loss: 1.1735 - accuracy: 0.5702 - val_loss: 1.1635 - val_accuracy: 0.5687\n",
      "Epoch 17/50\n",
      "29068/29068 [==============================] - 603s 21ms/sample - loss: 1.1410 - accuracy: 0.5853 - val_loss: 1.1358 - val_accuracy: 0.5729\n",
      "Epoch 18/50\n",
      "29068/29068 [==============================] - 604s 21ms/sample - loss: 1.1188 - accuracy: 0.5915 - val_loss: 1.3590 - val_accuracy: 0.4817\n",
      "Epoch 19/50\n",
      "29068/29068 [==============================] - 603s 21ms/sample - loss: 1.0949 - accuracy: 0.5990 - val_loss: 1.0861 - val_accuracy: 0.5965\n",
      "Epoch 20/50\n",
      "29068/29068 [==============================] - 602s 21ms/sample - loss: 1.0749 - accuracy: 0.6072 - val_loss: 1.1156 - val_accuracy: 0.5865\n",
      "Epoch 21/50\n",
      "29068/29068 [==============================] - 603s 21ms/sample - loss: 1.0564 - accuracy: 0.6156 - val_loss: 1.1147 - val_accuracy: 0.5924\n",
      "Epoch 22/50\n",
      "29068/29068 [==============================] - 603s 21ms/sample - loss: 1.0352 - accuracy: 0.6264 - val_loss: 1.0844 - val_accuracy: 0.6027\n",
      "Epoch 23/50\n",
      "29068/29068 [==============================] - 604s 21ms/sample - loss: 1.0099 - accuracy: 0.6313 - val_loss: 1.0901 - val_accuracy: 0.5988\n",
      "Epoch 24/50\n",
      "29068/29068 [==============================] - 604s 21ms/sample - loss: 0.9992 - accuracy: 0.6360 - val_loss: 1.1077 - val_accuracy: 0.5818\n",
      "Epoch 25/50\n",
      "29068/29068 [==============================] - 603s 21ms/sample - loss: 0.9760 - accuracy: 0.6492 - val_loss: 1.0625 - val_accuracy: 0.6105\n",
      "Epoch 26/50\n",
      "29068/29068 [==============================] - 602s 21ms/sample - loss: 0.9537 - accuracy: 0.6582 - val_loss: 1.0925 - val_accuracy: 0.6071\n",
      "Epoch 27/50\n",
      "29068/29068 [==============================] - 600s 21ms/sample - loss: 0.9287 - accuracy: 0.6633 - val_loss: 1.0714 - val_accuracy: 0.6066\n",
      "Epoch 28/50\n",
      "29068/29068 [==============================] - 602s 21ms/sample - loss: 0.9166 - accuracy: 0.6683 - val_loss: 1.0356 - val_accuracy: 0.6239\n",
      "Epoch 29/50\n",
      "29068/29068 [==============================] - 602s 21ms/sample - loss: 0.9005 - accuracy: 0.6738 - val_loss: 1.0695 - val_accuracy: 0.6124\n",
      "Epoch 30/50\n",
      "29068/29068 [==============================] - 602s 21ms/sample - loss: 0.8866 - accuracy: 0.6809 - val_loss: 1.0616 - val_accuracy: 0.6197\n",
      "Epoch 31/50\n",
      "29056/29068 [============================>.] - ETA: 0s - loss: 0.8612 - accuracy: 0.6888\n",
      "Epoch 00031: ReduceLROnPlateau reducing learning rate to 0.0009000000427477062.\n",
      "29068/29068 [==============================] - 601s 21ms/sample - loss: 0.8611 - accuracy: 0.6889 - val_loss: 1.0844 - val_accuracy: 0.6085\n",
      "Epoch 32/50\n",
      "29068/29068 [==============================] - 602s 21ms/sample - loss: 0.8373 - accuracy: 0.6997 - val_loss: 1.0672 - val_accuracy: 0.6202\n",
      "Epoch 33/50\n",
      "29068/29068 [==============================] - 603s 21ms/sample - loss: 0.8185 - accuracy: 0.7038 - val_loss: 1.0963 - val_accuracy: 0.6230\n",
      "Epoch 34/50\n",
      "29056/29068 [============================>.] - ETA: 0s - loss: 0.8006 - accuracy: 0.7125\n",
      "Epoch 00034: ReduceLROnPlateau reducing learning rate to 0.0008100000384729356.\n",
      "29068/29068 [==============================] - 602s 21ms/sample - loss: 0.8004 - accuracy: 0.7126 - val_loss: 1.0971 - val_accuracy: 0.6375\n",
      "Epoch 35/50\n",
      "29068/29068 [==============================] - 601s 21ms/sample - loss: 0.7711 - accuracy: 0.7248 - val_loss: 1.1050 - val_accuracy: 0.6297\n",
      "Epoch 36/50\n",
      "29068/29068 [==============================] - 602s 21ms/sample - loss: 0.7495 - accuracy: 0.7305 - val_loss: 1.1539 - val_accuracy: 0.6269\n",
      "Epoch 00036: early stopping\n"
     ]
    },
    {
     "data": {
      "text/plain": [
       "<tensorflow.python.keras.callbacks.History at 0x7f7c8c2a2da0>"
      ]
     },
     "execution_count": 18,
     "metadata": {},
     "output_type": "execute_result"
    }
   ],
   "source": [
    "model.fit(np.array(X_train), np.array(y_train),\n",
    "          batch_size=batch_size,\n",
    "          epochs=50,\n",
    "          verbose=1,\n",
    "          validation_data=(np.array(X_test), np.array(y_test)),\n",
    "          shuffle=True,\n",
    "          callbacks=[lr_reducer, early_stopper],)"
   ]
  },
  {
   "cell_type": "code",
   "execution_count": 20,
   "metadata": {},
   "outputs": [],
   "source": [
    "from tensorflow.keras.models import model_from_json\n",
    "from tensorflow.keras.models import load_model\n",
    "\n",
    "\n",
    "model_json = model.to_json()\n",
    "\n",
    "\n",
    "with open(\"model_num.json\", \"w\") as json_file:\n",
    "    json_file.write(model_json)\n",
    "\n",
    "\n",
    "model.save_weights(\"model_num.h5\")"
   ]
  },
  {
   "cell_type": "code",
   "execution_count": null,
   "metadata": {},
   "outputs": [],
   "source": []
  }
 ],
 "metadata": {
  "kernelspec": {
   "display_name": "Python 3",
   "language": "python",
   "name": "python3"
  },
  "language_info": {
   "codemirror_mode": {
    "name": "ipython",
    "version": 3
   },
   "file_extension": ".py",
   "mimetype": "text/x-python",
   "name": "python",
   "nbconvert_exporter": "python",
   "pygments_lexer": "ipython3",
   "version": "3.7.1"
  }
 },
 "nbformat": 4,
 "nbformat_minor": 2
}
